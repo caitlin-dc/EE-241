{
  "cells": [
    {
      "cell_type": "code",
      "execution_count": null,
      "id": "aa23d334",
      "metadata": {
        "id": "aa23d334"
      },
      "outputs": [],
      "source": [
        "##### Author: Jimin Kim (jk55@uw.edu)\n",
        "##### Version 1.5.0"
      ]
    },
    {
      "cell_type": "markdown",
      "id": "386f8fca",
      "metadata": {
        "id": "386f8fca"
      },
      "source": [
        "# Lab 2 Report"
      ]
    },
    {
      "cell_type": "code",
      "execution_count": null,
      "id": "81987249",
      "metadata": {
        "id": "81987249"
      },
      "outputs": [],
      "source": [
        "### Team name: Caitie and Tuan\n",
        "### Group Members: Tuan Huynh, Caitlin DeShazo-Couchot"
      ]
    },
    {
      "cell_type": "code",
      "execution_count": 3,
      "id": "77d02be7",
      "metadata": {
        "id": "77d02be7"
      },
      "outputs": [],
      "source": [
        "import numpy as np"
      ]
    },
    {
      "cell_type": "markdown",
      "id": "d8208d76",
      "metadata": {
        "id": "d8208d76"
      },
      "source": [
        "# Exercise 1: Loops vs Numpy operations"
      ]
    },
    {
      "cell_type": "markdown",
      "id": "1804ca1d",
      "metadata": {
        "id": "1804ca1d"
      },
      "source": [
        "<img src=\"lab2_exercise1.png\" width=\"1000\">"
      ]
    },
    {
      "cell_type": "code",
      "execution_count": null,
      "id": "03d6479d",
      "metadata": {
        "id": "03d6479d"
      },
      "outputs": [],
      "source": [
        "import time # Import time to measure computational efficiency of the code"
      ]
    },
    {
      "cell_type": "code",
      "execution_count": null,
      "id": "05eb4964",
      "metadata": {
        "id": "05eb4964"
      },
      "outputs": [],
      "source": [
        "arr2d_1 = np.random.randn(1000, 1000) * 10\n",
        "arr2d_2 = np.random.randn(1000, 1000) * 10"
      ]
    },
    {
      "cell_type": "code",
      "execution_count": null,
      "id": "e882592a",
      "metadata": {
        "id": "e882592a"
      },
      "outputs": [],
      "source": [
        "# Elementwise addition using loop\n",
        "\n",
        "arr2d_3_loop = np.zeros((1000, 1000)) # Create a placeholder array for arr2d_3\n",
        "\n",
        "start_time_loop = time.time() # start time of the code\n",
        "\n",
        "#Populates arr2d_3_loop with the sum of arr2d_1 and arr2d_2 at the same point.\n",
        "for i in range(1000): # A sequence to traverse rows.\n",
        "  for j in range(1000): # A sequence to traverse columns.\n",
        "    arr2d_3_loop[i,j] = arr2d_1[i,j] + arr2d_2[i,j]\n",
        "\n",
        "end_time_loop = time.time() # end time of the code\n",
        "\n",
        "elapsed_time_loop = end_time_loop - start_time_loop # end time - start time -> elapsed time in seconds\n",
        "print(elapsed_time_loop)"
      ]
    },
    {
      "cell_type": "code",
      "execution_count": null,
      "id": "0086daf9",
      "metadata": {
        "id": "0086daf9"
      },
      "outputs": [],
      "source": [
        "# Elementwise addition using Numpy function\n",
        "\n",
        "start_time_np = time.time()\n",
        "\n",
        "#Populates arr2d_3_np with the sum of arr2d_1 and arr2d_2 at the same point.\n",
        "arr2d_3_np = np.add(arr2d_1, arr2d_2)\n",
        "\n",
        "end_time_np = time.time()\n",
        "\n",
        "elapsed_time_np = end_time_np - start_time_np\n",
        "print(elapsed_time_np)"
      ]
    },
    {
      "cell_type": "code",
      "execution_count": null,
      "id": "218b68fe",
      "metadata": {
        "collapsed": true,
        "id": "218b68fe",
        "outputId": "481ec743-aefb-44ab-976c-f017528a3294"
      },
      "outputs": [
        {
          "ename": "NameError",
          "evalue": "name 'arr2d_3_loop' is not defined",
          "output_type": "error",
          "traceback": [
            "\u001b[1;31m---------------------------------------------------------------------------\u001b[0m",
            "\u001b[1;31mNameError\u001b[0m                                 Traceback (most recent call last)",
            "Input \u001b[1;32mIn [2]\u001b[0m, in \u001b[0;36m<cell line: 3>\u001b[1;34m()\u001b[0m\n\u001b[0;32m      1\u001b[0m \u001b[38;5;66;03m# Make sure two outputs are equivalent\u001b[39;00m\n\u001b[1;32m----> 3\u001b[0m np\u001b[38;5;241m.\u001b[39msum(\u001b[43marr2d_3_loop\u001b[49m \u001b[38;5;241m==\u001b[39m arr2d_3_np) \u001b[38;5;241m==\u001b[39m \u001b[38;5;241m1000\u001b[39m \u001b[38;5;241m*\u001b[39m \u001b[38;5;241m1000\u001b[39m\n",
            "\u001b[1;31mNameError\u001b[0m: name 'arr2d_3_loop' is not defined"
          ]
        }
      ],
      "source": [
        "# Make sure two outputs are equivalent\n",
        "\n",
        "np.sum(arr2d_3_loop == arr2d_3_np) == 1000 * 1000 # Should output True if the outputs are same"
      ]
    },
    {
      "cell_type": "markdown",
      "id": "f6353d1b",
      "metadata": {
        "id": "f6353d1b"
      },
      "source": [
        "### Which computation is faster and by what factor?\n",
        "### e.g. a code that takes 0.1s is faster by a factor of 10 compared to a code that takes 1s"
      ]
    },
    {
      "cell_type": "markdown",
      "id": "377d25e5",
      "metadata": {
        "id": "377d25e5"
      },
      "source": [
        "The NumPy code is, as expected, a lot faster because \n",
        "it does array-wide operations rather than using lists. The NumPy array addition is faster by a factor of 200."
      ]
    },
    {
      "cell_type": "markdown",
      "id": "b5f232b7",
      "metadata": {
        "id": "b5f232b7"
      },
      "source": [
        "# Exercise 2: Generate Triangular Waveform"
      ]
    },
    {
      "cell_type": "markdown",
      "id": "52290bf7",
      "metadata": {
        "id": "52290bf7"
      },
      "source": [
        "<img src=\"lab2_exercise2.png\" width=\"1000\">"
      ]
    },
    {
      "cell_type": "code",
      "source": [
        "import matplotlib.pyplot as plt\n",
        "from scipy import signal"
      ],
      "metadata": {
        "id": "nF5iK6Q2Sz_c"
      },
      "id": "nF5iK6Q2Sz_c",
      "execution_count": 4,
      "outputs": []
    },
    {
      "cell_type": "code",
      "execution_count": 5,
      "id": "6f08c981",
      "metadata": {
        "collapsed": true,
        "colab": {
          "base_uri": "https://localhost:8080/",
          "height": 338
        },
        "id": "6f08c981",
        "outputId": "d7c2f0a6-c655-453c-afc3-e11927341137"
      },
      "outputs": [
        {
          "output_type": "stream",
          "name": "stderr",
          "text": [
            "/usr/local/lib/python3.7/dist-packages/ipykernel_launcher.py:11: UserWarning: In Matplotlib 3.3 individual lines on a stem plot will be added as a LineCollection instead of individual lines. This significantly improves the performance of a stem plot. To remove this warning and switch to the new behaviour, set the \"use_line_collection\" keyword argument to True.\n",
            "  # This is added back by InteractiveShellApp.init_path()\n"
          ]
        },
        {
          "output_type": "display_data",
          "data": {
            "text/plain": [
              "<Figure size 432x288 with 1 Axes>"
            ],
            "image/png": "[encoded data removed]"
          },
          "metadata": {
            "needs_background": "light"
          }
        }
      ],
      "source": [
        "# Sampling frequency of 10 Hz between 0 to 6 seconds.\n",
        "x = np.linspace(0, 6, 61)\n",
        "\n",
        "# Triangular waveform with an amplitude of 1 and a frequency of 0.5 Hz using sawtooth.* \n",
        "y = signal.sawtooth(1 * np.pi * x, 0.5)\n",
        "\n",
        "plt.xlabel('Time (seconds)')  # Set the y axis label\n",
        "plt.xlim(0, 6)                # Set the x axis range\n",
        "plt.ylim(-1, 1)               # Set the y axis range\n",
        "plt.plot(x, y)                # Plots the function.\n",
        "plt.stem(x,y)                 # Plot style of ticks and dots.\n",
        "plt.show()\n",
        "\n",
        "# *Sawtooth waves are periodic but non-sinusodial, allowing it to have sharp rises and falls."
      ]
    },
    {
      "cell_type": "markdown",
      "id": "e7e50cec",
      "metadata": {
        "id": "e7e50cec"
      },
      "source": [
        "# Exercise 3: Sinusoidal Generator"
      ]
    },
    {
      "cell_type": "markdown",
      "id": "c9c52034",
      "metadata": {
        "id": "c9c52034"
      },
      "source": [
        "<img src=\"lab2_exercise3.png\" width=\"1000\">"
      ]
    },
    {
      "cell_type": "code",
      "execution_count": null,
      "id": "295369c6",
      "metadata": {
        "id": "295369c6"
      },
      "outputs": [],
      "source": [
        "# Define generate_sine function\n",
        "\n",
        "def generate_sine(t_duration, f0, fs):\n",
        "    x = np.linspace(0, t_duration, fs)\n",
        "    in_hz = np.multiply(2, np.pi, f0)\n",
        "    y = np.sin(in_hz)\n",
        "    \n",
        "    # Return 1D numpy arrays each containing timepoints and sine waveform amplitudes\n",
        "    return t_arr, amplitudes "
      ]
    },
    {
      "cell_type": "code",
      "execution_count": null,
      "id": "cbef858d",
      "metadata": {
        "id": "cbef858d"
      },
      "outputs": [],
      "source": [
        "# parameter set 1\n",
        "t_duration_1 = 5\n",
        "f0_1 = 0.5\n",
        "fs_1 = 100\n",
        "t_arr_1, amplitudes_1 = generate_sine(t_duration_1, f0_1, fs_1)\n",
        "\n",
        "# parameter set 2\n",
        "t_duration_2 = 5\n",
        "f0_2 = 1.\n",
        "fs_2 = 100\n",
        "t_arr_2, amplitudes_2 = generate_sine(t_duration_2, f0_2, fs_2)\n",
        "\n",
        "# parameter set 3\n",
        "t_duration_3 = 5\n",
        "f0_3 = 1.5\n",
        "fs_3 = 100\n",
        "t_arr_3, amplitudes_3 = generate_sine(t_duration_3, f0_3, fs_3)"
      ]
    },
    {
      "cell_type": "code",
      "execution_count": null,
      "id": "12f637bc",
      "metadata": {
        "id": "12f637bc"
      },
      "outputs": [],
      "source": [
        "# Plot 3 x 1 subplot showing all three waveform\n",
        "# Plot sine waveform 1\n",
        "plt.subplot(311)           # (number of rows, number of columns, current plot)\n",
        "plt.plot(t_arr_1, amplitudes_1)\n",
        "plt.title('sine waveform 1')\n",
        "plt.xlabel('t_arr')\n",
        "plt.ylabel('amplitudes')\n",
        "# # Plot sine waveform 2\n",
        "plt.subplot(312)\n",
        "plt.plot(t_arr_2, amplitudes_2)\n",
        "plt.title('sine waveform 2')\n",
        "plt.xlabel('t_arr')\n",
        "plt.ylabel('amplitudes')\n",
        "# Plot sine waveform 3\n",
        "plt.subplot(313)\n",
        "plt.plot(t_arr_3, amplitudes_3)\n",
        "plt.title('sine waveform 3')\n",
        "plt.xlabel('t_arr')\n",
        "plt.ylabel('amplitudes')"
      ]
    },
    {
      "cell_type": "markdown",
      "id": "8900ccf3",
      "metadata": {
        "id": "8900ccf3"
      },
      "source": [
        "# Exercise 4: Notes Synthesis"
      ]
    },
    {
      "cell_type": "markdown",
      "id": "9c1e3145",
      "metadata": {
        "id": "9c1e3145"
      },
      "source": [
        "<img src=\"lab2_exercise4.png\" width=\"1000\">"
      ]
    },
    {
      "cell_type": "code",
      "execution_count": null,
      "id": "3f2407e5",
      "metadata": {
        "id": "3f2407e5"
      },
      "outputs": [],
      "source": [
        "# Import scipy.io\n",
        "from scipy.io import wavfile as wav\n",
        "# Import simpleaudio\n",
        "import simpleaudio as sa  \n",
        "import numpy as np\n",
        "# The generate_sine() function returns an array of sine waveform amplitudes\n",
        "def generate_sine(t_duration, f0, fs):\n",
        "    t_arr= np.arange(0,t_duration,1/fs)\n",
        "    amplitudes=np.sin(2*np.pi*f0*t_arr)\n",
        "    # Return 1D numpy array containing sine waveform amplitudes\n",
        "    return amplitudes \n",
        "\n",
        "# Use the generate_sine() function to construct 8 notes that make up A-Major scale. Each note should last 1 second.\n",
        "Note_A=generate_sine(1, 220, 8000)\n",
        "Note_B=generate_sine(1, 220*2**(2/12), 8000)\n",
        "Note_Csharp=generate_sine(1, 220*2**(4/12), 8000)\n",
        "Note_D=generate_sine(1, 220*2**(5/12), 8000)\n",
        "Note_E=generate_sine(1, 220*2**(7/12), 8000)\n",
        "Note_Fsharp=generate_sine(1, 220*2**(9/12), 8000)\n",
        "Note_Gsharp=generate_sine(1, 220*2**(11/12), 8000)\n",
        "Note_A1=generate_sine(1, 440, 8000)\n",
        "\n",
        "# Concatenate 8 notes into a single 1D array, and multiply concatenated notes with 32767 followed by conversion to int16 format\n",
        "concatenate_notes=32767*np.concatenate([Note_A, Note_B, Note_Csharp, Note_D, Note_E, Note_Fsharp, Note_Gsharp, Note_A1])\n",
        "\n",
        "# Set the name of the new audio file\n",
        "outfile='a_major_scale.wav'\n",
        "\n",
        "# Write new audio file with correct sampling frequency\n",
        "wav.write(outfile, 8000, concatenate_notes.astype('int16'))\n",
        "\n",
        "# Load the saved .wav file\n",
        "wav_obj = sa.WaveObject.from_wave_file('a_major_scale.wav')    \n",
        "\n",
        "# Validate the new audio file by playing it\n",
        "play_obj = wav_obj.play()"
      ]
    },
    {
      "cell_type": "code",
      "execution_count": null,
      "id": "0ca4a13d",
      "metadata": {
        "id": "0ca4a13d"
      },
      "outputs": [],
      "source": [
        "# NOTE: Multiply your concatenated notes (with amplitude of 1) with 32767 followed by conversion to int16 format\n",
        "# before playing or writing your audio array into a file. "
      ]
    },
    {
      "cell_type": "markdown",
      "id": "6e9e2bf5",
      "metadata": {
        "id": "6e9e2bf5"
      },
      "source": [
        "# Exercise 5: Chord Synthesis"
      ]
    },
    {
      "cell_type": "markdown",
      "id": "edd24d11",
      "metadata": {
        "id": "edd24d11"
      },
      "source": [
        "<img src=\"lab2_exercise5.png\" width=\"1000\">"
      ]
    },
    {
      "cell_type": "code",
      "execution_count": null,
      "id": "d7d9a753",
      "metadata": {
        "id": "d7d9a753"
      },
      "outputs": [],
      "source": [
        "# Import scipy.io\n",
        "from scipy.io import wavfile as wav \n",
        "# Import simpleaudio\n",
        "import simpleaudio as sa  \n",
        "import numpy as np\n",
        "# The generate_sine() function returns an array of sine waveform amplitudes\n",
        "def generate_sine(t_duration, f0, fs):\n",
        "    t_arr= np.arange(0,t_duration,1/fs)\n",
        "    amplitudes=np.sin(2*np.pi*f0*t_arr)\n",
        "    # Return 1D numpy array containing sine waveform amplitudes\n",
        "    return amplitudes \n",
        "\n",
        "# Use the generate_sine() function to generate 6 chords, each chord consists of addition of two notes, last for 1s with sampling frequency of 8000Hz.\n",
        "Chord_1=generate_sine(1, 220+220*2**(4/12), 8000)\n",
        "Chord_2=generate_sine(1, 220*2**(2/12)+220*2**(5/12) , 8000)\n",
        "Chord_3=generate_sine(1, 220*2**(4/12)+220*2**(7/12), 8000)\n",
        "Chord_4=generate_sine(1, 220*2**(5/12)+220*2**(9/12), 8000)\n",
        "Chord_5=generate_sine(1, 220*2**(7/12)+220*2**(11/12), 8000)\n",
        "Chord_6=generate_sine(1, 220*2**(9/12)+440, 8000)\n",
        "\n",
        "# Concatenate 6 chords into a single 1D array, and multiply concatenated chords with 32767 followed by conversion to int16 format\n",
        "concatenate_chords=32767*np.concatenate([Chord_1, Chord_2, Chord_3, Chord_4, Chord_5, Chord_6])\n",
        "\n",
        "# Set the name of the new audio file\n",
        "outfile='6_chords.wav'\n",
        "\n",
        "# Write new audio file with correct sampling frequency\n",
        "wav.write(outfile, 8000, concatenate_chords.astype('int16'))  \n",
        "\n",
        "# Load the saved .wav file\n",
        "wav_obj = sa.WaveObject.from_wave_file('6_chords.wav') \n",
        "\n",
        "# Validate the new audio file by playing it\n",
        "play_obj = wav_obj.play()"
      ]
    },
    {
      "cell_type": "code",
      "execution_count": null,
      "id": "b1883f16",
      "metadata": {
        "id": "b1883f16"
      },
      "outputs": [],
      "source": [
        "# NOTE: Multiply your concatenated notes (with amplitude of 1) with 32767 followed by conversion to int16 format\n",
        "# before playing or writing your audio array into a file. "
      ]
    }
  ],
  "metadata": {
    "kernelspec": {
      "display_name": "Python 3 (ipykernel)",
      "language": "python",
      "name": "python3"
    },
    "language_info": {
      "codemirror_mode": {
        "name": "ipython",
        "version": 3
      },
      "file_extension": ".py",
      "mimetype": "text/x-python",
      "name": "python",
      "nbconvert_exporter": "python",
      "pygments_lexer": "ipython3",
      "version": "3.9.12"
    },
    "colab": {
      "provenance": [],
      "collapsed_sections": []
    }
  },
  "nbformat": 4,
  "nbformat_minor": 5
}