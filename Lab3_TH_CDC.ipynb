{
 "cells": [
  {
   "cell_type": "markdown",
   "id": "94073f9a",
   "metadata": {},
   "source": [
    "##### Author: Jimin Kim (jk55@uw.edu)\n",
    "##### Version 1.5.0"
   ]
  },
  {
   "cell_type": "markdown",
   "id": "1fdff9c9",
   "metadata": {},
   "source": [
    "# Lab 3 Report"
   ]
  },
  {
   "cell_type": "markdown",
   "id": "16b41713",
   "metadata": {},
   "source": [
    "## Group Members: Tuan Huynh, Caitlin DeShazo-Couchot\n",
    "## Group Name for Leaderboard: Caitie and Tuan"
   ]
  },
  {
   "cell_type": "code",
   "execution_count": null,
   "id": "9b0a2d9d",
   "metadata": {},
   "outputs": [],
   "source": [
    "import matplotlib.pyplot as plt\n",
    "import matplotlib.image as mpimg\n",
    "import numpy as np\n",
    "\n",
    "from PIL import Image \n",
    "%matplotlib inline"
   ]
  },
  {
   "cell_type": "markdown",
   "id": "be9c587e",
   "metadata": {},
   "source": [
    "### Exercise 1: Generalized function for subsetting pixels"
   ]
  },
  {
   "cell_type": "markdown",
   "id": "666fc07e",
   "metadata": {},
   "source": [
    "<img src=\"lab3_exercise1.png\" width=\"1000\">"
   ]
  },
  {
   "cell_type": "code",
   "execution_count": null,
   "id": "60cd1239",
   "metadata": {},
   "outputs": [],
   "source": [
    "e1_img = Image.open('sample_image_1.jpg').convert('L')\n",
    "e1_img = np.array(e1_img)     # 8-bit code grayscale"
   ]
  },
  {
   "cell_type": "code",
   "execution_count": null,
   "id": "8854d36d",
   "metadata": {},
   "outputs": [],
   "source": [
    "fig = plt.figure(figsize=(7, 7))\n",
    "\n",
    "plt.imshow(e1_img, cmap = 'gray')"
   ]
  },
  {
   "cell_type": "code",
   "execution_count": 3,
   "id": "94aaf8a6",
   "metadata": {},
   "outputs": [],
   "source": [
    "def subset_pixels(image, min_pixel_depth, max_pixel_depth, replacement_val):\n",
    "    # Create a copy of the image to avoid tempering the global variable\n",
    "    new_image = image.copy() \n",
    "    # Mask the pixel values that fall outside of min and max values are set to replacement_val.\n",
    "    new_image[new_image<min_pixel_depth]=replacement_val\n",
    "    new_image[new_image>max_pixel_depth]=replacement_val\n",
    "    # Set output_image=new_image to return\n",
    "    output_image=new_image\n",
    "    \n",
    "    return output_image"
   ]
  },
  {
   "cell_type": "code",
   "execution_count": 4,
   "id": "12e6ee5e",
   "metadata": {
    "collapsed": true
   },
   "outputs": [
    {
     "ename": "NameError",
     "evalue": "name 'plt' is not defined",
     "output_type": "error",
     "traceback": [
      "\u001b[1;31m---------------------------------------------------------------------------\u001b[0m",
      "\u001b[1;31mNameError\u001b[0m                                 Traceback (most recent call last)",
      "Input \u001b[1;32mIn [4]\u001b[0m, in \u001b[0;36m<cell line: 3>\u001b[1;34m()\u001b[0m\n\u001b[0;32m      1\u001b[0m \u001b[38;5;66;03m# min_pixel_depth = 50, max_pixel_depth = 250, replacement_val = 100\u001b[39;00m\n\u001b[1;32m----> 3\u001b[0m fig \u001b[38;5;241m=\u001b[39m \u001b[43mplt\u001b[49m\u001b[38;5;241m.\u001b[39mfigure(figsize\u001b[38;5;241m=\u001b[39m(\u001b[38;5;241m7\u001b[39m, \u001b[38;5;241m7\u001b[39m))\n\u001b[0;32m      5\u001b[0m e1_output1 \u001b[38;5;241m=\u001b[39m subset_pixels(image \u001b[38;5;241m=\u001b[39m e1_img, min_pixel_depth \u001b[38;5;241m=\u001b[39m \u001b[38;5;241m50\u001b[39m, max_pixel_depth \u001b[38;5;241m=\u001b[39m \u001b[38;5;241m250\u001b[39m, replacement_val \u001b[38;5;241m=\u001b[39m \u001b[38;5;241m100\u001b[39m)\n\u001b[0;32m      7\u001b[0m plt\u001b[38;5;241m.\u001b[39mimshow(e1_output1, cmap \u001b[38;5;241m=\u001b[39m \u001b[38;5;124m'\u001b[39m\u001b[38;5;124mgray\u001b[39m\u001b[38;5;124m'\u001b[39m, vmin \u001b[38;5;241m=\u001b[39m \u001b[38;5;241m0\u001b[39m, vmax \u001b[38;5;241m=\u001b[39m \u001b[38;5;241m255\u001b[39m)\n",
      "\u001b[1;31mNameError\u001b[0m: name 'plt' is not defined"
     ]
    }
   ],
   "source": [
    "# min_pixel_depth = 50, max_pixel_depth = 250, replacement_val = 100\n",
    "\n",
    "fig = plt.figure(figsize=(7, 7))\n",
    "\n",
    "e1_output1 = subset_pixels(image = e1_img, min_pixel_depth = 50, max_pixel_depth = 250, replacement_val = 100)\n",
    "\n",
    "plt.imshow(e1_output1, cmap = 'gray', vmin = 0, vmax = 255)\n",
    "\n",
    "plt.savefig('e1_output1.png')"
   ]
  },
  {
   "cell_type": "code",
   "execution_count": null,
   "id": "81b3f9bc",
   "metadata": {},
   "outputs": [],
   "source": [
    "# min_pixel_depth = 100, max_pixel_depth = 200, replacement_val = 30\n",
    "\n",
    "fig = plt.figure(figsize=(7, 7))\n",
    "\n",
    "e1_output2 = subset_pixels(image = e1_img, min_pixel_depth = 100, max_pixel_depth = 200, replacement_val = 30)\n",
    "\n",
    "plt.imshow(e1_output2, cmap = 'gray', vmin = 0, vmax = 255)\n",
    "\n",
    "plt.savefig('e1_output2.png')"
   ]
  },
  {
   "cell_type": "code",
   "execution_count": null,
   "id": "dba6ccd5",
   "metadata": {},
   "outputs": [],
   "source": [
    "# min_pixel_depth = 50, max_pixel_depth = 255, replacement_val = 255\n",
    "\n",
    "fig = plt.figure(figsize=(7, 7))\n",
    "\n",
    "e1_output3 = subset_pixels(image = e1_img, min_pixel_depth = 50, max_pixel_depth = 255, replacement_val = 255)\n",
    "\n",
    "plt.imshow(e1_output3, cmap = 'gray', vmin = 0, vmax = 255)\n",
    "\n",
    "plt.savefig('e1_output3.png')"
   ]
  },
  {
   "cell_type": "markdown",
   "id": "427ff2a9",
   "metadata": {},
   "source": [
    "### Exercise 2: Thumbnail generator function"
   ]
  },
  {
   "cell_type": "markdown",
   "id": "5409f4fb",
   "metadata": {},
   "source": [
    "<img src=\"lab3_exercise2.png\" width=\"1000\">"
   ]
  },
  {
   "cell_type": "code",
   "execution_count": null,
   "id": "514dbd51",
   "metadata": {},
   "outputs": [],
   "source": [
    "e2_img = mpimg.imread('sample_image_2.jpg')\n",
    "e2_img = np.array(e2_img)     "
   ]
  },
  {
   "cell_type": "code",
   "execution_count": null,
   "id": "a24db98d",
   "metadata": {},
   "outputs": [],
   "source": [
    "fig = plt.figure(figsize=(7, 7))\n",
    "\n",
    "plt.imshow(e2_img)"
   ]
  },
  {
   "cell_type": "code",
   "execution_count": 1,
   "id": "8d9c7e15",
   "metadata": {},
   "outputs": [],
   "source": [
    "# Create a function create_thumbnail() and outputs the downsampled RGB image using the segment averaging technique\n",
    "def create_thumbnail(image, downsampling_rate):\n",
    "    # Create a copy of the image to avoid tempering the global variable\n",
    "    new_image=image.copy()\n",
    "    # Find the original height and width of the image\n",
    "    m=new_image.shape[0]\n",
    "    n=new_image.shape[1]\n",
    "    # Calculate the new height and width for the output image, cast it to integer\n",
    "    height=int(m/downsampling_rate)\n",
    "    width=int(n/downsampling_rate)\n",
    "    # Create 2D zero arrays with the shape (height, width) to implement for loop\n",
    "    img_red_downsampled=np.zeros(shape=(height, width),dtype=int )\n",
    "    img_green_downsampled=np.zeros(shape=(height, width),dtype=int )\n",
    "    img_blue_downsampled=np.zeros(shape=(height, width),dtype=int )\n",
    "    # Extract each color channel\n",
    "    img_red = new_image[:, :, 0]        \n",
    "    img_green = new_image[:, :, 1]\n",
    "    img_blue = new_image[:, :, 2]\n",
    "    # Implement the nested loop to find the values for axis 0 and 1 of the 3D array\n",
    "    for i in range(0, m, downsampling_rate): \n",
    "        for j in range(0, n, downsampling_rate):\n",
    "            # Apply downsampling to all color channels by averaging each segment and round up the results\n",
    "            img_red_downsampled[int(i/downsampling_rate),int(j/downsampling_rate)] = np.ceil(np.mean(img_red[i:i+downsampling_rate,j:j+downsampling_rate]))\n",
    "            img_green_downsampled[int(i/downsampling_rate),int(j/downsampling_rate)] = np.ceil(np.mean(img_green[i:i+downsampling_rate,j:j+downsampling_rate]))\n",
    "            img_blue_downsampled[int(i/downsampling_rate),int(j/downsampling_rate)] = np.ceil(np.mean(img_blue[i:i+downsampling_rate,j:j+downsampling_rate]))\n",
    "    # Combine downsampled channel into a single 3D array\n",
    "    img_downsampled = np.stack([img_red_downsampled, img_green_downsampled, img_blue_downsampled], axis = 2)\n",
    "    output_image = img_downsampled.astype('int')         \n",
    "    # Return the output image\n",
    "    return output_image"
   ]
  },
  {
   "cell_type": "code",
   "execution_count": 2,
   "id": "e476447b",
   "metadata": {
    "collapsed": true
   },
   "outputs": [
    {
     "ename": "NameError",
     "evalue": "name 'plt' is not defined",
     "output_type": "error",
     "traceback": [
      "\u001b[1;31m---------------------------------------------------------------------------\u001b[0m",
      "\u001b[1;31mNameError\u001b[0m                                 Traceback (most recent call last)",
      "Input \u001b[1;32mIn [2]\u001b[0m, in \u001b[0;36m<cell line: 3>\u001b[1;34m()\u001b[0m\n\u001b[0;32m      1\u001b[0m \u001b[38;5;66;03m# downsampling rate x5\u001b[39;00m\n\u001b[1;32m----> 3\u001b[0m fig \u001b[38;5;241m=\u001b[39m \u001b[43mplt\u001b[49m\u001b[38;5;241m.\u001b[39mfigure(figsize\u001b[38;5;241m=\u001b[39m(\u001b[38;5;241m7\u001b[39m, \u001b[38;5;241m7\u001b[39m))\n\u001b[0;32m      5\u001b[0m e2_output1 \u001b[38;5;241m=\u001b[39m create_thumbnail(image \u001b[38;5;241m=\u001b[39m e2_img, downsampling_rate \u001b[38;5;241m=\u001b[39m \u001b[38;5;241m5\u001b[39m)\n\u001b[0;32m      7\u001b[0m plt\u001b[38;5;241m.\u001b[39mimshow(e2_output1, vmin \u001b[38;5;241m=\u001b[39m \u001b[38;5;241m0\u001b[39m, vmax \u001b[38;5;241m=\u001b[39m \u001b[38;5;241m255\u001b[39m)\n",
      "\u001b[1;31mNameError\u001b[0m: name 'plt' is not defined"
     ]
    }
   ],
   "source": [
    "# downsampling rate x5\n",
    "\n",
    "fig = plt.figure(figsize=(7, 7))\n",
    "\n",
    "e2_output1 = create_thumbnail(image = e2_img, downsampling_rate = 5)\n",
    "\n",
    "plt.imshow(e2_output1, vmin = 0, vmax = 255)\n",
    "\n",
    "plt.savefig('e2_output1.png')"
   ]
  },
  {
   "cell_type": "code",
   "execution_count": null,
   "id": "12b99d0d",
   "metadata": {},
   "outputs": [],
   "source": [
    "# downsampling rate x10\n",
    "\n",
    "fig = plt.figure(figsize=(7, 7))\n",
    "\n",
    "e2_output2 = create_thumbnail(image = e2_img, downsampling_rate = 10)\n",
    "\n",
    "plt.imshow(e2_output2, vmin = 0, vmax = 255)\n",
    "\n",
    "plt.savefig('e2_output2.png')"
   ]
  },
  {
   "cell_type": "code",
   "execution_count": null,
   "id": "864b8044",
   "metadata": {},
   "outputs": [],
   "source": [
    "# downsampling rate x20\n",
    "\n",
    "fig = plt.figure(figsize=(7, 7))\n",
    "\n",
    "e2_output3 = create_thumbnail(image = e2_img, downsampling_rate = 20)\n",
    "\n",
    "plt.imshow(e2_output3, vmin = 0, vmax = 255)\n",
    "\n",
    "plt.savefig('e2_output3.png')"
   ]
  },
  {
   "cell_type": "markdown",
   "id": "c55346e9",
   "metadata": {},
   "source": [
    "## Extra credit: Code efficiency\n",
    "### Achieve a runtime speed of < 100ms"
   ]
  },
  {
   "cell_type": "code",
   "execution_count": null,
   "id": "22f96322",
   "metadata": {},
   "outputs": [],
   "source": [
    "timeit -n 1 -r 7 e2_output2 = create_thumbnail(image = e2_img, downsampling_rate = 5)"
   ]
  },
  {
   "cell_type": "markdown",
   "id": "241c78a0",
   "metadata": {},
   "source": [
    "### Exercise 3: Generalized image blender function"
   ]
  },
  {
   "cell_type": "markdown",
   "id": "d6762c0e",
   "metadata": {},
   "source": [
    "<img src=\"lab3_exercise3.png\" width=\"1000\">"
   ]
  },
  {
   "cell_type": "code",
   "execution_count": null,
   "id": "b01ce1e8",
   "metadata": {},
   "outputs": [],
   "source": [
    "e3_img1 = mpimg.imread('sample_image_1.jpg')\n",
    "e3_img2 = mpimg.imread('sample_image_2.jpg')\n",
    "e3_img3 = mpimg.imread('sample_image_3.jpg')\n",
    "e3_img4 = mpimg.imread('sample_image_4.jpg')\n",
    "e3_img5 = mpimg.imread('sample_image_5.jpg')\n",
    "\n",
    "e3_img1 = np.array(e3_img1)     \n",
    "e3_img2 = np.array(e3_img2)     \n",
    "e3_img3 = np.array(e3_img3)     \n",
    "e3_img4 = np.array(e3_img4)     \n",
    "e3_img5 = np.array(e3_img5)     "
   ]
  },
  {
   "cell_type": "code",
   "execution_count": null,
   "id": "03fa5368",
   "metadata": {},
   "outputs": [],
   "source": [
    "fig = plt.figure(figsize=(15, 15))\n",
    "\n",
    "plt.subplot(1,5,1)\n",
    "plt.imshow(e3_img1, vmin = 0, vmax = 255)\n",
    "\n",
    "plt.subplot(1,5,2)\n",
    "plt.imshow(e3_img2, vmin = 0, vmax = 255)\n",
    "\n",
    "plt.subplot(1,5,3)\n",
    "plt.imshow(e3_img3, vmin = 0, vmax = 255)\n",
    "\n",
    "plt.subplot(1,5,4)\n",
    "plt.imshow(e3_img4, vmin = 0, vmax = 255)\n",
    "\n",
    "plt.subplot(1,5,5)\n",
    "plt.imshow(e3_img5, vmin = 0, vmax = 255)"
   ]
  },
  {
   "cell_type": "code",
   "execution_count": null,
   "id": "a2aee92d",
   "metadata": {},
   "outputs": [],
   "source": [
    "def blend_images(image_list, weight_list):\n",
    "    # Find the original height and width of the image\n",
    "    m=image_list[0].shape[0]\n",
    "    n=image_list[0].shape[1]\n",
    "    # Find the number of elements in image_list\n",
    "    x=len(image_list)\n",
    "    # Create initial lists that has the size x to implement for loop\n",
    "    new_image_list = list(range(x))\n",
    "    img_red_list = list(range(x))\n",
    "    img_green_list = list(range(x))\n",
    "    img_blue_list = list(range(x))\n",
    "    # Create 2D zero arrays with the size(m,n) to implement the for loop\n",
    "    blended_img_red = np.zeros(shape=(m,n),dtype=int)  \n",
    "    blended_img_green = np.zeros(shape=(m,n),dtype=int)\n",
    "    blended_img_blue = np.zeros(shape=(m,n),dtype=int)\n",
    "    # Implement for loop x times\n",
    "    for i in range(0,x):\n",
    "        # Create a copy of the images to avoid tempering the global variable\n",
    "        new_image_list[i]=image_list[i].copy()\n",
    "        # Extract color channels from both images\n",
    "        img_red[i] = new_image_list[i][:, :, 0]\n",
    "        img_green[i] = new_image_list[i][:, :, 1]\n",
    "        img_blue[i] = new_image_list[i][:, :, 2]\n",
    "        # Blend each channel\n",
    "        blended_img_red = blended_img_red + weight_list[i] * img_red_list[i]\n",
    "        blended_img_green = blended_img_green + weight_list[i] * img_green_list[i]\n",
    "        blended_img_blue = blended_img_blue + weight_list[i] * img_blue_list[i]\n",
    "        # Combine blended channel into a single 3D array\n",
    "        blended_img = np.stack([blended_img_red, blended_img_green, blended_img_blue], axis = 2)\n",
    "        output_image = blended_img.astype('int')     # This command ensures all the pixels are in integer form \n",
    "                                            # as required by standard 8-bit color code\n",
    "    \n",
    "    return output_image"
   ]
  },
  {
   "cell_type": "code",
   "execution_count": null,
   "id": "1681ebaa",
   "metadata": {},
   "outputs": [],
   "source": [
    "# Blend all 5 images with equal weights\n",
    "\n",
    "e3_part1_image_list =[e3_img1, e3_img2, e3_img3, e3_img4, e3_img5]\n",
    "e3_part1_weight_list = [0.2, 0.2, 0.2, 0.2, 0.2]\n",
    "\n",
    "e3_output1 = blend_images(image_list = e3_part1_image_list, weight_list = e3_part1_weight_list)\n",
    "\n",
    "fig = plt.figure(figsize=(7, 7))\n",
    "\n",
    "plt.imshow(e3_output1, vmin = 0, vmax = 255)\n",
    "\n",
    "plt.savefig('e3_output1.png')"
   ]
  },
  {
   "cell_type": "code",
   "execution_count": null,
   "id": "ca48ef4e",
   "metadata": {},
   "outputs": [],
   "source": [
    "# Blend first 3 images with different weights\n",
    "\n",
    "e3_part2_image_list =[e3_img1, e3_img2, e3_img3]\n",
    "e3_part2_weight_list = [0.2, 0.3, 0.5]\n",
    "\n",
    "e3_output2 = blend_images(image_list = e3_part2_image_list, weight_list = e3_part2_weight_list)\n",
    "\n",
    "fig = plt.figure(figsize=(5, 5))\n",
    "\n",
    "plt.imshow(e3_output2, vmin = 0, vmax = 255)\n",
    "\n",
    "plt.savefig('e3_output2.png')"
   ]
  },
  {
   "cell_type": "markdown",
   "id": "3d2b88d6",
   "metadata": {},
   "source": [
    "### Exercise 4: Image rotation function"
   ]
  },
  {
   "cell_type": "markdown",
   "id": "9746b763",
   "metadata": {},
   "source": [
    "<img src=\"lab3_exercise4.png\" width=\"1000\">"
   ]
  },
  {
   "cell_type": "code",
   "execution_count": null,
   "id": "92ebf6d7",
   "metadata": {},
   "outputs": [],
   "source": [
    "e4_img = mpimg.imread('sample_image_2.jpg')\n",
    "e4_img = np.array(e4_img)     "
   ]
  },
  {
   "cell_type": "code",
   "execution_count": null,
   "id": "d51ed985",
   "metadata": {},
   "outputs": [],
   "source": [
    "fig = plt.figure(figsize=(7, 7))\n",
    "\n",
    "plt.imshow(e4_img, vmin = 0, vmax = 255)"
   ]
  },
  {
   "cell_type": "code",
   "execution_count": null,
   "id": "016c2382",
   "metadata": {},
   "outputs": [],
   "source": [
    "def rotate_image(image, rotate_angle): # rotate angle takes one of 0, 90, 180, 270\n",
    "    # Create a copy of the image to avoid tempering the global variable\n",
    "    new_image=image.copy()\n",
    "    # Find the sizes of the image\n",
    "    m=new_image.shape[0]\n",
    "    n=new_image.shape[1]\n",
    "    # Create 2D zero arrays to implement for loop\n",
    "    img_red_rotate=np.zeros(shape=(m,n),dtype=int )\n",
    "    img_green_rotate=np.zeros(shape=(m,n),dtype=int )\n",
    "    img_blue_rotate=np.zeros(shape=(m,n),dtype=int )\n",
    "    # Extract each color channel\n",
    "    img_red = new_image[:, :, 0]        \n",
    "    img_green = new_image[:, :, 1]\n",
    "    img_blue = new_image[:, :, 2]\n",
    "    for i in range(0,m):\n",
    "        for j in range(0,n):\n",
    "            # Implement conditional statements for 4 cases of rotating angle\n",
    "            if rotate_angle == 0:\n",
    "                img_red_rotate[i,j]=img_red[i,j]\n",
    "                img_green_rotate[i,j]=img_green[i,j]\n",
    "                img_blue_rotate[i,j]=img_blue[i,j]\n",
    "            elif rotate_angle == 90:\n",
    "            # m and n are the height and the width of image, so the index start at 0 to m-1 and n-1\n",
    "                img_red_rotate[i,j]=img_red[m-1-j,i]\n",
    "                img_green_rotate[i,j]=img_green[m-1-j,i]\n",
    "                img_blue_rotate[i,j]=img_blue[m-1-j,i]\n",
    "            elif rotate_angle == 180:\n",
    "                img_red_rotate[i,j]=img_red[m-1-i,n-1-j]\n",
    "                img_green_rotate[i,j]=img_green[m-1-i,n-1-j]\n",
    "                img_blue_rotate[i,j]=img_blue[m-1-i,n-1-j]\n",
    "            else : # rotate_angle=270\n",
    "                img_red_rotate[i,j]=img_red[j,n-1-i]\n",
    "                img_green_rotate[i,j]=img_green[j,n-1-i]\n",
    "                img_blue_rotate[i,j]=img_blue[j,n-1-i]\n",
    "    # Combine rotated channel into a single 3D array\n",
    "    img_rotate = np.stack([img_red_rotate, img_green_rotate, img_blue_rotate], axis = 2)\n",
    "    output_image = img_rotate.astype('int')\n",
    "    return output_image"
   ]
  },
  {
   "cell_type": "code",
   "execution_count": null,
   "id": "7ab41346",
   "metadata": {},
   "outputs": [],
   "source": [
    "# Rotate the image by 0 degrees - This should result in identity\n",
    "\n",
    "e4_output1 = rotate_image(image = e4_img, rotate_angle = 0)\n",
    "\n",
    "fig = plt.figure(figsize=(7, 7))\n",
    "\n",
    "plt.imshow(e4_output1, vmin = 0, vmax = 255)\n",
    "\n",
    "plt.savefig('e4_output1.png')"
   ]
  },
  {
   "cell_type": "code",
   "execution_count": null,
   "id": "9e2990d1",
   "metadata": {},
   "outputs": [],
   "source": [
    "# Rotate the image by 90 degrees\n",
    "\n",
    "e4_output2 = rotate_image(image = e4_img, rotate_angle = 90)\n",
    "\n",
    "fig = plt.figure(figsize=(7, 7))\n",
    "\n",
    "plt.imshow(e4_output2, vmin = 0, vmax = 255)\n",
    "\n",
    "plt.savefig('e4_output2.png')"
   ]
  },
  {
   "cell_type": "code",
   "execution_count": null,
   "id": "9f400b22",
   "metadata": {},
   "outputs": [],
   "source": [
    "# Rotate the image by 180 degrees\n",
    "\n",
    "e4_output3 = rotate_image(image = e4_img, rotate_angle = 180)\n",
    "\n",
    "fig = plt.figure(figsize=(7, 7))\n",
    "\n",
    "plt.imshow(e4_output3, vmin = 0, vmax = 255)\n",
    "\n",
    "plt.savefig('e4_output3.png')"
   ]
  },
  {
   "cell_type": "code",
   "execution_count": null,
   "id": "d6963f10",
   "metadata": {},
   "outputs": [],
   "source": [
    "# Rotate the image by 270 degrees\n",
    "\n",
    "e4_output4 = rotate_image(image = e4_img, rotate_angle = 270)\n",
    "\n",
    "fig = plt.figure(figsize=(7, 7))\n",
    "\n",
    "plt.imshow(e4_output4, vmin = 0, vmax = 255)\n",
    "\n",
    "plt.savefig('e4_output4.png')"
   ]
  },
  {
   "cell_type": "markdown",
   "id": "044621a0",
   "metadata": {},
   "source": [
    "## Extra credit: Code efficiency\n",
    "### Achieve a runtime speed of < 5ms"
   ]
  },
  {
   "cell_type": "code",
   "execution_count": null,
   "id": "f9c0887d",
   "metadata": {},
   "outputs": [],
   "source": [
    "timeit -n 1 -r 7 e4_output2 = rotate_image(image = e4_img, rotate_angle = 90)"
   ]
  },
  {
   "cell_type": "markdown",
   "id": "8256b332",
   "metadata": {},
   "source": [
    "### Exercise 5: 2D Gaussian image generator"
   ]
  },
  {
   "cell_type": "markdown",
   "id": "1bdbaed2",
   "metadata": {},
   "source": [
    "<img src=\"lab3_exercise5.png\" width=\"1000\">"
   ]
  },
  {
   "cell_type": "code",
   "execution_count": null,
   "id": "5e73a4fb",
   "metadata": {},
   "outputs": [],
   "source": [
    "x_range = np.arange(-25, 25, 1)\n",
    "y_range = np.arange(-25, 25, 1)[::-1]\n",
    "\n",
    "X, Y = np.meshgrid(x_range, y_range) # More detail on documentation \n",
    "                                     # https://numpy.org/doc/stable/reference/generated/numpy.meshgrid.html"
   ]
  },
  {
   "cell_type": "code",
   "execution_count": null,
   "id": "04a8e05b",
   "metadata": {},
   "outputs": [],
   "source": [
    "print(X, X.shape) # Set of x-coordinates in the function domain     "
   ]
  },
  {
   "cell_type": "code",
   "execution_count": null,
   "id": "6a400387",
   "metadata": {},
   "outputs": [],
   "source": [
    "print(Y, Y.shape) # Set of y-coordinates in the function domain   "
   ]
  },
  {
   "cell_type": "code",
   "execution_count": null,
   "id": "94b1fd2c",
   "metadata": {},
   "outputs": [],
   "source": [
    "def vis_2d_gaussian(X, Y, sigma_x, sigma_y, x0, y0, A, cmap):\n",
    "    # Implement 2D Gaussian function\n",
    "    f_xy= A*np.exp(-((X-x0)**2/(2*sigma_x**2)+ (Y-y0)**2/(2*sigma_y**2)))\n",
    "    # Visualize of the function using plt.imshow().\n",
    "    plt.imshow(f_xy, vmin = 0, vmax = 255,cmap=cmap)\n"
   ]
  },
  {
   "cell_type": "code",
   "execution_count": null,
   "id": "ad47e61a",
   "metadata": {},
   "outputs": [],
   "source": [
    "# First parameter set: sigma_x = 10, sigma_y = 10, x0 = 0, y0 = 0\n",
    "# cmap = 'gray'\n",
    "\n",
    "fig = plt.figure(figsize=(7, 7))\n",
    "\n",
    "vis_2d_gaussian(X, Y, sigma_x = 10, sigma_y = 10, x0 = 0, y0 = 0, A = 255, cmap = 'gray')\n",
    "\n",
    "plt.savefig('e5_output1.png')"
   ]
  },
  {
   "cell_type": "code",
   "execution_count": null,
   "id": "852e54b8",
   "metadata": {},
   "outputs": [],
   "source": [
    "# First parameter set\n",
    "# cmap = 'jet'\n",
    "\n",
    "fig = plt.figure(figsize=(7, 7))\n",
    "\n",
    "vis_2d_gaussian(X, Y, sigma_x = 10, sigma_y = 10, x0 = 0, y0 = 0, A = 255, cmap = 'jet')\n",
    "\n",
    "plt.savefig('e5_output2.png')"
   ]
  },
  {
   "cell_type": "code",
   "execution_count": null,
   "id": "4e34bca6",
   "metadata": {},
   "outputs": [],
   "source": [
    "# Second parameter set: sigma_x = 5, sigma_y = 5, x0 = 3, y = 3\n",
    "# grayscale color specturm\n",
    "\n",
    "fig = plt.figure(figsize=(7, 7))\n",
    "\n",
    "vis_2d_gaussian(X, Y, sigma_x = 5, sigma_y = 5, x0 = 3, y0 = 3, A = 255, cmap = 'gray')\n",
    "\n",
    "plt.savefig('e5_output1.png')"
   ]
  },
  {
   "cell_type": "code",
   "execution_count": null,
   "id": "e2d28572",
   "metadata": {},
   "outputs": [],
   "source": [
    "# Second parameter set: sigma_x = 5, sigma_y = 5, x0 = 3, y = 3\n",
    "# jet color specturm\n",
    "\n",
    "fig = plt.figure(figsize=(7, 7))\n",
    "\n",
    "vis_2d_gaussian(X, Y, sigma_x = 5, sigma_y = 5, x0 = 3, y0 = 3, A = 255, cmap = 'jet')\n",
    "\n",
    "plt.savefig('e5_output2.png')"
   ]
  }
 ],
 "metadata": {
  "kernelspec": {
   "display_name": "Python 3 (ipykernel)",
   "language": "python",
   "name": "python3"
  },
  "language_info": {
   "codemirror_mode": {
    "name": "ipython",
    "version": 3
   },
   "file_extension": ".py",
   "mimetype": "text/x-python",
   "name": "python",
   "nbconvert_exporter": "python",
   "pygments_lexer": "ipython3",
   "version": "3.9.12"
  }
 },
 "nbformat": 4,
 "nbformat_minor": 5
}
